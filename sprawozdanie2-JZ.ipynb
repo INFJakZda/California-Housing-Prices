{
 "cells": [
  {
   "cell_type": "markdown",
   "metadata": {},
   "source": [
    "# Sprawozdanie 2 z Uczenia maszynowego\n",
    "\n",
    "### Jakub Zdanowski 127239, Błażej Latos XXXXXX"
   ]
  },
  {
   "cell_type": "markdown",
   "metadata": {},
   "source": [
    "## 1. Zbiór danych\n",
    "\n",
    "Postanowiliśmy użyć zbioru danych, który jest dość popularny i dobrze nadaje się do tego projektu. [Dane](https://developers.google.com/machine-learning/crash-course/california-housing-data-description) opierają się na danych spisowych ludności z Kalifornii z 1990 roku.\n",
    "\n",
    "Poniżej zostaną przedstawione podstawowe informacje takie jak liczba przykładów, średnia, odchylenie standardowe, max, min i różne kwantyle."
   ]
  },
  {
   "cell_type": "code",
   "execution_count": 6,
   "metadata": {},
   "outputs": [
    {
     "data": {
      "text/html": [
       "<div>\n",
       "<style scoped>\n",
       "    .dataframe tbody tr th:only-of-type {\n",
       "        vertical-align: middle;\n",
       "    }\n",
       "\n",
       "    .dataframe tbody tr th {\n",
       "        vertical-align: top;\n",
       "    }\n",
       "\n",
       "    .dataframe thead th {\n",
       "        text-align: right;\n",
       "    }\n",
       "</style>\n",
       "<table border=\"1\" class=\"dataframe\">\n",
       "  <thead>\n",
       "    <tr style=\"text-align: right;\">\n",
       "      <th></th>\n",
       "      <th>longitude</th>\n",
       "      <th>latitude</th>\n",
       "      <th>housing_median_age</th>\n",
       "      <th>total_rooms</th>\n",
       "      <th>total_bedrooms</th>\n",
       "      <th>population</th>\n",
       "      <th>households</th>\n",
       "      <th>median_income</th>\n",
       "      <th>median_house_value</th>\n",
       "    </tr>\n",
       "  </thead>\n",
       "  <tbody>\n",
       "    <tr>\n",
       "      <th>count</th>\n",
       "      <td>17000.00</td>\n",
       "      <td>17000.00</td>\n",
       "      <td>17000.00</td>\n",
       "      <td>17000.00</td>\n",
       "      <td>17000.00</td>\n",
       "      <td>17000.00</td>\n",
       "      <td>17000.00</td>\n",
       "      <td>17000.00</td>\n",
       "      <td>17000.00</td>\n",
       "    </tr>\n",
       "    <tr>\n",
       "      <th>mean</th>\n",
       "      <td>-119.56</td>\n",
       "      <td>35.63</td>\n",
       "      <td>28.59</td>\n",
       "      <td>2643.66</td>\n",
       "      <td>539.41</td>\n",
       "      <td>1429.57</td>\n",
       "      <td>501.22</td>\n",
       "      <td>3.88</td>\n",
       "      <td>207300.91</td>\n",
       "    </tr>\n",
       "    <tr>\n",
       "      <th>std</th>\n",
       "      <td>2.01</td>\n",
       "      <td>2.14</td>\n",
       "      <td>12.59</td>\n",
       "      <td>2179.95</td>\n",
       "      <td>421.50</td>\n",
       "      <td>1147.85</td>\n",
       "      <td>384.52</td>\n",
       "      <td>1.91</td>\n",
       "      <td>115983.76</td>\n",
       "    </tr>\n",
       "    <tr>\n",
       "      <th>min</th>\n",
       "      <td>-124.35</td>\n",
       "      <td>32.54</td>\n",
       "      <td>1.00</td>\n",
       "      <td>2.00</td>\n",
       "      <td>1.00</td>\n",
       "      <td>3.00</td>\n",
       "      <td>1.00</td>\n",
       "      <td>0.50</td>\n",
       "      <td>14999.00</td>\n",
       "    </tr>\n",
       "    <tr>\n",
       "      <th>25%</th>\n",
       "      <td>-121.79</td>\n",
       "      <td>33.93</td>\n",
       "      <td>18.00</td>\n",
       "      <td>1462.00</td>\n",
       "      <td>297.00</td>\n",
       "      <td>790.00</td>\n",
       "      <td>282.00</td>\n",
       "      <td>2.57</td>\n",
       "      <td>119400.00</td>\n",
       "    </tr>\n",
       "    <tr>\n",
       "      <th>50%</th>\n",
       "      <td>-118.49</td>\n",
       "      <td>34.25</td>\n",
       "      <td>29.00</td>\n",
       "      <td>2127.00</td>\n",
       "      <td>434.00</td>\n",
       "      <td>1167.00</td>\n",
       "      <td>409.00</td>\n",
       "      <td>3.54</td>\n",
       "      <td>180400.00</td>\n",
       "    </tr>\n",
       "    <tr>\n",
       "      <th>75%</th>\n",
       "      <td>-118.00</td>\n",
       "      <td>37.72</td>\n",
       "      <td>37.00</td>\n",
       "      <td>3151.25</td>\n",
       "      <td>648.25</td>\n",
       "      <td>1721.00</td>\n",
       "      <td>605.25</td>\n",
       "      <td>4.77</td>\n",
       "      <td>265000.00</td>\n",
       "    </tr>\n",
       "    <tr>\n",
       "      <th>max</th>\n",
       "      <td>-114.31</td>\n",
       "      <td>41.95</td>\n",
       "      <td>52.00</td>\n",
       "      <td>37937.00</td>\n",
       "      <td>6445.00</td>\n",
       "      <td>35682.00</td>\n",
       "      <td>6082.00</td>\n",
       "      <td>15.00</td>\n",
       "      <td>500001.00</td>\n",
       "    </tr>\n",
       "  </tbody>\n",
       "</table>\n",
       "</div>"
      ],
      "text/plain": [
       "       longitude  latitude  housing_median_age  total_rooms  total_bedrooms  \\\n",
       "count   17000.00  17000.00            17000.00     17000.00        17000.00   \n",
       "mean     -119.56     35.63               28.59      2643.66          539.41   \n",
       "std         2.01      2.14               12.59      2179.95          421.50   \n",
       "min      -124.35     32.54                1.00         2.00            1.00   \n",
       "25%      -121.79     33.93               18.00      1462.00          297.00   \n",
       "50%      -118.49     34.25               29.00      2127.00          434.00   \n",
       "75%      -118.00     37.72               37.00      3151.25          648.25   \n",
       "max      -114.31     41.95               52.00     37937.00         6445.00   \n",
       "\n",
       "       population  households  median_income  median_house_value  \n",
       "count    17000.00    17000.00       17000.00            17000.00  \n",
       "mean      1429.57      501.22           3.88           207300.91  \n",
       "std       1147.85      384.52           1.91           115983.76  \n",
       "min          3.00        1.00           0.50            14999.00  \n",
       "25%        790.00      282.00           2.57           119400.00  \n",
       "50%       1167.00      409.00           3.54           180400.00  \n",
       "75%       1721.00      605.25           4.77           265000.00  \n",
       "max      35682.00     6082.00          15.00           500001.00  "
      ]
     },
     "execution_count": 6,
     "metadata": {},
     "output_type": "execute_result"
    }
   ],
   "source": [
    "import pandas as pd\n",
    "pd.options.display.precision = 2\n",
    "\n",
    "# wczytanie danych z pliku .csv\n",
    "california_housing_dataframe = pd.read_csv(\"california_housing_train.csv\")\n",
    "\n",
    "# ilustracja podstawowych informacji o danych\n",
    "california_housing_dataframe.describe()"
   ]
  },
  {
   "cell_type": "code",
   "execution_count": 2,
   "metadata": {},
   "outputs": [
    {
     "data": {
      "text/html": [
       "<div>\n",
       "<style scoped>\n",
       "    .dataframe tbody tr th:only-of-type {\n",
       "        vertical-align: middle;\n",
       "    }\n",
       "\n",
       "    .dataframe tbody tr th {\n",
       "        vertical-align: top;\n",
       "    }\n",
       "\n",
       "    .dataframe thead th {\n",
       "        text-align: right;\n",
       "    }\n",
       "</style>\n",
       "<table border=\"1\" class=\"dataframe\">\n",
       "  <thead>\n",
       "    <tr style=\"text-align: right;\">\n",
       "      <th></th>\n",
       "      <th>longitude</th>\n",
       "      <th>latitude</th>\n",
       "      <th>housing_median_age</th>\n",
       "      <th>total_rooms</th>\n",
       "      <th>total_bedrooms</th>\n",
       "      <th>population</th>\n",
       "      <th>households</th>\n",
       "      <th>median_income</th>\n",
       "      <th>median_house_value</th>\n",
       "    </tr>\n",
       "  </thead>\n",
       "  <tbody>\n",
       "    <tr>\n",
       "      <th>0</th>\n",
       "      <td>-114.31</td>\n",
       "      <td>34.19</td>\n",
       "      <td>15.0</td>\n",
       "      <td>5612.0</td>\n",
       "      <td>1283.0</td>\n",
       "      <td>1015.0</td>\n",
       "      <td>472.0</td>\n",
       "      <td>1.4936</td>\n",
       "      <td>66900.0</td>\n",
       "    </tr>\n",
       "    <tr>\n",
       "      <th>1</th>\n",
       "      <td>-114.47</td>\n",
       "      <td>34.40</td>\n",
       "      <td>19.0</td>\n",
       "      <td>7650.0</td>\n",
       "      <td>1901.0</td>\n",
       "      <td>1129.0</td>\n",
       "      <td>463.0</td>\n",
       "      <td>1.8200</td>\n",
       "      <td>80100.0</td>\n",
       "    </tr>\n",
       "    <tr>\n",
       "      <th>2</th>\n",
       "      <td>-114.56</td>\n",
       "      <td>33.69</td>\n",
       "      <td>17.0</td>\n",
       "      <td>720.0</td>\n",
       "      <td>174.0</td>\n",
       "      <td>333.0</td>\n",
       "      <td>117.0</td>\n",
       "      <td>1.6509</td>\n",
       "      <td>85700.0</td>\n",
       "    </tr>\n",
       "    <tr>\n",
       "      <th>3</th>\n",
       "      <td>-114.57</td>\n",
       "      <td>33.64</td>\n",
       "      <td>14.0</td>\n",
       "      <td>1501.0</td>\n",
       "      <td>337.0</td>\n",
       "      <td>515.0</td>\n",
       "      <td>226.0</td>\n",
       "      <td>3.1917</td>\n",
       "      <td>73400.0</td>\n",
       "    </tr>\n",
       "    <tr>\n",
       "      <th>4</th>\n",
       "      <td>-114.57</td>\n",
       "      <td>33.57</td>\n",
       "      <td>20.0</td>\n",
       "      <td>1454.0</td>\n",
       "      <td>326.0</td>\n",
       "      <td>624.0</td>\n",
       "      <td>262.0</td>\n",
       "      <td>1.9250</td>\n",
       "      <td>65500.0</td>\n",
       "    </tr>\n",
       "  </tbody>\n",
       "</table>\n",
       "</div>"
      ],
      "text/plain": [
       "   longitude  latitude  housing_median_age  total_rooms  total_bedrooms  \\\n",
       "0    -114.31     34.19                15.0       5612.0          1283.0   \n",
       "1    -114.47     34.40                19.0       7650.0          1901.0   \n",
       "2    -114.56     33.69                17.0        720.0           174.0   \n",
       "3    -114.57     33.64                14.0       1501.0           337.0   \n",
       "4    -114.57     33.57                20.0       1454.0           326.0   \n",
       "\n",
       "   population  households  median_income  median_house_value  \n",
       "0      1015.0       472.0         1.4936             66900.0  \n",
       "1      1129.0       463.0         1.8200             80100.0  \n",
       "2       333.0       117.0         1.6509             85700.0  \n",
       "3       515.0       226.0         3.1917             73400.0  \n",
       "4       624.0       262.0         1.9250             65500.0  "
      ]
     },
     "execution_count": 2,
     "metadata": {},
     "output_type": "execute_result"
    }
   ],
   "source": [
    "# poniższa funkcja pokazuje 5 pierwszych wierszy w danych \n",
    "# dla zilustrowania typu i przykładowych wartości danych\n",
    "california_housing_dataframe.head()"
   ]
  },
  {
   "cell_type": "markdown",
   "metadata": {},
   "source": [
    "### Co zawierają dane?\n",
    "Wszystkie dane są typu *float64*.\n",
    "\n",
    "Powyższa tabela ukazuje podstawowe (liczbowe) informacje o danych, poniżej krótki opis kazdej z kolumn:\n",
    "- **longitude** - szerokość geograficzna\n",
    "- **latitude** - długość geograficzna\n",
    "- **housing_median_age** - średni wiek domu\n",
    "- **total_rooms** - całkowita liczba pokoi w bloku\n",
    "- **total_bedrooms** - całkowita liczba sypialni w bloku\n",
    "- **population** - całkowita liczba osób mieszkających w bloku\n",
    "- **households** - łączna liczba gospodarstw domowych (grupa osób mieszkających w jednostce domowej) na blok\n",
    "- **median_income** - mediana dochodu dla gospodarstwa domowego w bloku (mierzona w dziesiątkach tysięcy dolarów amerykańskich)\n",
    "- **median_house_value** - mediana wartości domu dla gospodarstw domowych w bloku (mierzona w dolarach amerykańskich)"
   ]
  },
  {
   "cell_type": "markdown",
   "metadata": {},
   "source": [
    "### Wstępna analiza danych\n",
    "Pierwszymi"
   ]
  },
  {
   "cell_type": "markdown",
   "metadata": {},
   "source": [
    "## 2. Predykcja wartości domu"
   ]
  },
  {
   "cell_type": "markdown",
   "metadata": {},
   "source": [
    "bla bla bla"
   ]
  },
  {
   "cell_type": "code",
   "execution_count": 3,
   "metadata": {},
   "outputs": [
    {
     "ename": "ModuleNotFoundError",
     "evalue": "No module named 'tensorflow'",
     "output_type": "error",
     "traceback": [
      "\u001b[0;31m---------------------------------------------------------------------------\u001b[0m",
      "\u001b[0;31mModuleNotFoundError\u001b[0m                       Traceback (most recent call last)",
      "\u001b[0;32m<ipython-input-3-f78dfa365075>\u001b[0m in \u001b[0;36m<module>\u001b[0;34m\u001b[0m\n\u001b[1;32m      8\u001b[0m \u001b[0;32mimport\u001b[0m \u001b[0mpandas\u001b[0m \u001b[0;32mas\u001b[0m \u001b[0mpd\u001b[0m\u001b[0;34m\u001b[0m\u001b[0;34m\u001b[0m\u001b[0m\n\u001b[1;32m      9\u001b[0m \u001b[0;32mfrom\u001b[0m \u001b[0msklearn\u001b[0m \u001b[0;32mimport\u001b[0m \u001b[0mmetrics\u001b[0m\u001b[0;34m\u001b[0m\u001b[0;34m\u001b[0m\u001b[0m\n\u001b[0;32m---> 10\u001b[0;31m \u001b[0;32mimport\u001b[0m \u001b[0mtensorflow\u001b[0m \u001b[0;32mas\u001b[0m \u001b[0mtf\u001b[0m\u001b[0;34m\u001b[0m\u001b[0;34m\u001b[0m\u001b[0m\n\u001b[0m\u001b[1;32m     11\u001b[0m \u001b[0;32mfrom\u001b[0m \u001b[0mtensorflow\u001b[0m\u001b[0;34m.\u001b[0m\u001b[0mpython\u001b[0m\u001b[0;34m.\u001b[0m\u001b[0mdata\u001b[0m \u001b[0;32mimport\u001b[0m \u001b[0mDataset\u001b[0m\u001b[0;34m\u001b[0m\u001b[0;34m\u001b[0m\u001b[0m\n\u001b[1;32m     12\u001b[0m \u001b[0;34m\u001b[0m\u001b[0m\n",
      "\u001b[0;31mModuleNotFoundError\u001b[0m: No module named 'tensorflow'"
     ]
    }
   ],
   "source": [
    "import math\n",
    "\n",
    "from IPython import display\n",
    "from matplotlib import cm\n",
    "from matplotlib import gridspec\n",
    "from matplotlib import pyplot as plt\n",
    "import numpy as np\n",
    "import pandas as pd\n",
    "from sklearn import metrics\n",
    "import tensorflow as tf\n",
    "from tensorflow.python.data import Dataset\n",
    "\n",
    "tf.logging.set_verbosity(tf.logging.ERROR)\n",
    "pd.options.display.max_rows = 10\n",
    "pd.options.display.float_format = '{:.1f}'.format"
   ]
  },
  {
   "cell_type": "markdown",
   "metadata": {},
   "source": [
    "Dane zostaną przemieszane, aby mieć pewność, że nie pojawią się żadne patologiczne efekty porządkowania, które mogłyby zaszkodzić wydajności SGD. Dodatkowo, zmieniona zostanie wartość `median_house_value` na jednostki tysiąca, aby można było się jej nauczyć nieco łatwiej przy współczynnikach uczenia w niskim zakresie."
   ]
  },
  {
   "cell_type": "code",
   "execution_count": null,
   "metadata": {},
   "outputs": [],
   "source": [
    "# przemieszanie kolejności danych\n",
    "california_housing_dataframe = california_housing_dataframe.reindex(\n",
    "    np.random.permutation(california_housing_dataframe.index))\n",
    "\n",
    "# zmniejszenie zakresu wartości mieszkań\n",
    "california_housing_dataframe[\"median_house_value\"] /= 1000.0"
   ]
  },
  {
   "cell_type": "code",
   "execution_count": null,
   "metadata": {},
   "outputs": [],
   "source": [
    "# wybór kolumn do predykcji wartości mieszkania\n",
    "X_feature = california_housing_dataframe[[\"total_rooms\"]]\n",
    "\n",
    "# opis danych funkcji; nie zawierają samych danych\n",
    "X_column = [tf.feature_column.numeric_column(\"total_rooms\")]"
   ]
  },
  {
   "cell_type": "code",
   "execution_count": null,
   "metadata": {},
   "outputs": [],
   "source": [
    "# definicja predykcji\n",
    "y_target = california_housing_dataframe[\"median_house_value\"]"
   ]
  },
  {
   "cell_type": "code",
   "execution_count": null,
   "metadata": {},
   "outputs": [],
   "source": [
    "# użycie spadku gradientu do optymalizacji \n",
    "linear_optimizer = tf.train.GradientDescentOptimizer(learning_rate=0.0000001)\n",
    "\n",
    "# Powszechnie stosowany mechanizm zmniejszania problemu gradientu eksplodującego\n",
    "# poprzez sztuczne ograniczanie (przycinanie) maksymalnej wartości gradientów\n",
    "linear_optimizer = tf.contrib.estimator.clip_gradients_by_norm(my_optimizer, 5.0)\n",
    "\n",
    "# konfiguracja regresora liniowego wraz z wybranymi kolumnami\n",
    "linear_regressor = tf.estimator.LinearRegressor(\n",
    "    feature_columns = X_column,\n",
    "    optimizer = linear_optimizer\n",
    ")"
   ]
  },
  {
   "cell_type": "markdown",
   "metadata": {},
   "source": [
    "`input_func` funkcja pozwalająca na użycie danych wczytanych przez *pandas* w estymatorach *tensorflow*. Napisana na podstawie [przewodnika tensorflow](https://www.tensorflow.org/guide/datasets)."
   ]
  },
  {
   "cell_type": "code",
   "execution_count": null,
   "metadata": {},
   "outputs": [],
   "source": [
    "# funckja użyta będzie w kolejnych zadaniach\n",
    "def input_func(features, targets, batch_size=1, shuffle=True, num_epochs=None):\n",
    "    # konwertowanie do tablic numpy'owych\n",
    "    features = {key:np.array(value) for key, value in dict(features).items()} \n",
    "    \n",
    "    # Construct a dataset, and configure batching/repeating.\n",
    "    # przy większych danych należy zwrócić uwagę czy zmieszczą się w pamięci\n",
    "    ds = Dataset.from_tensor_slices((features, targets))\n",
    "    ds = ds.batch(batch_size).repeat(num_epochs)\n",
    "    \n",
    "    if shuffle:\n",
    "        ds = ds.shuffle(buffer_size=10000)\n",
    "        \n",
    "    # zwrócenie kolejnej paczki (batch) danych\n",
    "    features, labels = ds.make_one_shot_iterator().get_next()\n",
    "    return features, labels    "
   ]
  },
  {
   "cell_type": "code",
   "execution_count": null,
   "metadata": {},
   "outputs": [],
   "source": [
    "_ = linear_regressor.train(\n",
    "    input_fn = lambda:input_func(X_feature, y_target),\n",
    "    steps=100\n",
    ")"
   ]
  },
  {
   "cell_type": "code",
   "execution_count": null,
   "metadata": {},
   "outputs": [],
   "source": [
    "# Create an input function for predictions.\n",
    "# Note: Since we're making just one prediction for each example, we don't \n",
    "# need to repeat or shuffle the data here.\n",
    "prediction_input_fn =lambda: input_func(X_feature, y_target, num_epochs=1, shuffle=False)\n",
    "\n",
    "# Call predict() on the linear_regressor to make predictions.\n",
    "predictions = linear_regressor.predict(input_fn=prediction_input_fn)\n",
    "\n",
    "# Format predictions as a NumPy array, so we can calculate error metrics.\n",
    "predictions = np.array([item['predictions'][0] for item in predictions])\n",
    "\n",
    "# Print Mean Squared Error and Root Mean Squared Error.\n",
    "mean_squared_error = metrics.mean_squared_error(predictions, y_target)\n",
    "root_mean_squared_error = math.sqrt(mean_squared_error)\n",
    "print(\"Mean Squared Error (on training data): %0.3f\" % mean_squared_error)\n",
    "print(\"Root Mean Squared Error (on training data): %0.3f\" % root_mean_squared_error)"
   ]
  }
 ],
 "metadata": {
  "kernelspec": {
   "display_name": "Python 3",
   "language": "python",
   "name": "python3"
  },
  "language_info": {
   "codemirror_mode": {
    "name": "ipython",
    "version": 3
   },
   "file_extension": ".py",
   "mimetype": "text/x-python",
   "name": "python",
   "nbconvert_exporter": "python",
   "pygments_lexer": "ipython3",
   "version": "3.7.1"
  }
 },
 "nbformat": 4,
 "nbformat_minor": 2
}
